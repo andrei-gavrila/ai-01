{
 "cells": [
  {
   "cell_type": "markdown",
   "metadata": {},
   "source": [
    "# Tema 1 - exercitii python\n",
    "\n",
    "Se acordă doua puncte din oficiu. Fișierul va fi denumit tema1_ia_id_nume_prenume.ipynb. Verificați înainte de trimitere faptul ca execuția celulelor de sus în jos funcționează corespunzător. Aserțiunile sunt obligatoriu a fi indeplinite. Suplimentar, puteti face alte verificari.\n",
    "\n",
    "Se vor folosi type annotations pentru variabile, parametrii tuturor funcțiilor, tipuri de retur. Se vor folosi docstrings pentru toate funcțiile. Neîndeplinirea acestei cerințe duce la înjumătățirea punctajului pentru exercițiul în cauză.  \n",
    "\n",
    "Puteti crea alte functii auxiliare.\n",
    "\n",
    "Tema va fi predata pana cel tarziu 23.11.2024, pe platforma."
   ]
  },
  {
   "cell_type": "markdown",
   "metadata": {},
   "source": [
    "1. (1p) Se dă o listă `lista` de numere întregi. Preluați numerele pare în lista `lista_pare` numerele impare în lista `lista_impare`."
   ]
  },
  {
   "cell_type": "code",
   "execution_count": 229,
   "metadata": {},
   "outputs": [],
   "source": [
    "from typing import List, Tuple"
   ]
  },
  {
   "cell_type": "code",
   "execution_count": 230,
   "metadata": {},
   "outputs": [],
   "source": [
    "# Adaugati type annotations\n",
    "lista: list[int] = [3, 7, 12, 5, 9, -14, 20, 8, -11]\n",
    "\n",
    "lista_pare: list[int] = [x for x in lista if not x % 2]\n",
    "lista_impare: list[int] = [x for x in lista if x % 2]\n",
    "\n",
    "assert lista_pare == [12, -14, 20, 8]\n",
    "assert lista_impare == [3, 7, 5, 9, -11]"
   ]
  },
  {
   "cell_type": "markdown",
   "metadata": {},
   "source": [
    "2. (1p) Se dă o listă `lista` de liste de cuvinte distincte. Să se formeze un dicționar cu toate cuvintele listei care încep cu litera `a`: cheia va fi reprezentată de cuvântul oferit iar valoare va fi lungimea cuvântului."
   ]
  },
  {
   "cell_type": "code",
   "execution_count": 231,
   "metadata": {},
   "outputs": [],
   "source": [
    "lista: list[list[str]] = [\n",
    "    ['avocado', 'narwhal', 'grape', 'kiwi'], \n",
    "    ['dog', 'orange'], \n",
    "    ['peach', 'elephant', 'apricot'], \n",
    "    ['almond', 'monkey', 'fox', 'apple'], \n",
    "    ['quince', 'lion']\n",
    "]\n",
    "\n",
    "dict_result: dict[str, int] = {k: len(k) for l in lista for k in l if k.startswith('a')}\n",
    "\n",
    "assert dict_result == {'avocado': 7, 'apricot': 7, 'almond': 6, 'apple': 5}"
   ]
  },
  {
   "cell_type": "markdown",
   "metadata": {},
   "source": [
    "3. (1p) Sa se scrie o functie care calculează suma divizorilor comuni pentru 2 numere intregi oferite ca parametru."
   ]
  },
  {
   "cell_type": "code",
   "execution_count": 232,
   "metadata": {},
   "outputs": [],
   "source": [
    "def sum_divisors(a: int, b: int) -> int:\n",
    "    return sum([x for x in range(1, min(a, b) + 1) if not a%x and not b%x])\n",
    "\n",
    "assert sum_divisors(15, 30) == 24"
   ]
  },
  {
   "cell_type": "markdown",
   "metadata": {},
   "source": [
    "4. (1p) Se da un dictionar in care cheile sunt titluri de filme iar valorile sunt listele genurilor din care fac parte. Determinati:\n",
    "    1. Pentru un film oferit ca parametru, ce alte filme au in comun cu el cel putin un gen?\n",
    "    2. Care este al doilea cel mai intalnit gen in dictionarul dat?"
   ]
  },
  {
   "cell_type": "code",
   "execution_count": 233,
   "metadata": {},
   "outputs": [],
   "source": [
    "movies = {\n",
    "    \"Inception\": [\"Sci-Fi\", \"Thriller\", \"Action\"],\n",
    "    \"The Godfather\": [\"Crime\", \"Drama\"],\n",
    "    \"The Dark Knight\": [\"Action\", \"Crime\", \"Drama\"],\n",
    "    \"Pulp Fiction\": [\"Crime\", \"Drama\", \"Comedy\"],\n",
    "    \"Forrest Gump\": [\"Drama\", \"Romance\", \"Comedy\"],\n",
    "    \"The Matrix\": [\"Sci-Fi\", \"Action\"],\n",
    "    \"Parasite\": [\"Drama\", \"Thriller\", \"Comedy\"]\n",
    "}\n",
    "\n",
    "# Subpunct 1\n",
    "def common_genre(movies: dict[str,list[str]], movie: str) -> list[str]:\n",
    "    l: list[str] = list(set([m for m, genre in movies.items() for g in genre if m != movie and g in movies[movie]]))\n",
    "    l.reverse()\n",
    "\n",
    "    return l\n",
    "\n",
    "# Subpunct 1.a (pentru ca nu e specificat in cerinta ordinea, un set ar fi de preferat pentru validarea din assert)\n",
    "def common_genre_a(movies: dict[str,list[str]], movie: str) -> set[str]:\n",
    "    return set([m for m, genre in movies.items() for g in genre if m != movie and g in movies[movie]])\n",
    "\n",
    "# Subpunct 2 (sunt trei rezultate pentru assert, par sortate alfabetic invers)\n",
    "def second_to_max(movies: dict[str,list[str]]) -> str:\n",
    "    l: list[str] = sorted([g for m, genre in movies.items() for g in genre])\n",
    "#    print(l)\n",
    "    g: dict[str, int] = {g: l.count(g) for g in l}\n",
    "#    print(g)\n",
    "    gc = list({k: v for k, v in sorted(g.items(), key=lambda item: item[1])}.keys())\n",
    "#    print(gc)\n",
    "    return gc[-2:-1][0]\n",
    "\n",
    "assert second_to_max(movies) == 'Crime'\n",
    "assert common_genre(movies, 'Inception') == ['The Dark Knight', 'The Matrix', 'Parasite']\n",
    "assert common_genre_a(movies, 'Inception') == {'The Dark Knight', 'The Matrix', 'Parasite'}\n"
   ]
  },
  {
   "cell_type": "markdown",
   "metadata": {},
   "source": [
    "5. (2p) Se dau două texte `ta` și `tb`. Construiți pentru fiecare subpunct o funcție care:\n",
    "    1. Functia `appearances`: Formează un dicționar de cuvinte, unde valoarea pentru o cheie cuvânt este numărul de apariții, în total, în cele două texte.\n",
    "    2. Functia `diff`: Formează o listă care conține cuvintele care apar ori în `ta` ori în `tb` (dar nu în ambele).\n",
    "    3. Functia `comb`: Formează toate combinațiile de cuvinte între cuvintele care apar o singură dată în `ta` sau în `tb`. Cele două cuvinte vor fi unite utilizând caracterul `+`.\n",
    "    4. Functia `interc`: Intercalează la fiecare 2 cuvinte din `ta` un cuvând ales aleator din `tb` și formează un text cu cuvintele noi separate prin spațiu."
   ]
  },
  {
   "cell_type": "code",
   "execution_count": 234,
   "metadata": {},
   "outputs": [],
   "source": [
    "ta = 'The quick brown fox jumps over the lazy dog'\n",
    "tb = 'The dog chased the quick rabbit through the field'\n",
    "\n",
    "def appearances(ta: str, tb: str) -> dict[str, int]:\n",
    "#    w: str = (ta + ' ' + tb).lower().split()\n",
    "#    print(w)\n",
    "    w: str = (ta + ' ' + tb).split()\n",
    "#    print(w)\n",
    "    a = {k: w.count(k) for k in set(w)}\n",
    "#    print(a)\n",
    "    return a\n",
    "\n",
    "def diff(ta: str, tb: str) -> list[str]:\n",
    "    return set(set(ta.split()) - set(tb.split())) | set(set(tb.split()) - set(ta.split()))\n",
    "\n",
    "import itertools\n",
    "\n",
    "def comb(ta: str, tb: str) -> list[str]:\n",
    "    s1: set[str] = set(ta.split()) - set(tb.split())\n",
    "#    print(s1)\n",
    "    s2: set[str] = set(tb.lower().split()) - set(ta.lower().split())\n",
    "#    print(s2)\n",
    "    s3: set[str] = s1 | s2\n",
    "#    print(s3)\n",
    "    c: set[str] = set(itertools.combinations_with_replacement(s3, 2))\n",
    "#    c: set[str] = [k1 + '+' + k2 for k1 in s3 for k2 in s3]\n",
    "#    c = set(((x, x) for x in s3))\n",
    "#    print(c)\n",
    "#    print(len(c))\n",
    "    return c\n",
    "\n",
    "from collections.abc import Iterable\n",
    "\n",
    "def flatten(xs):\n",
    "    for x in xs:\n",
    "        if isinstance(x, Iterable) and not isinstance(x, (str, bytes)):\n",
    "            yield from flatten(x)\n",
    "        else:\n",
    "            yield x\n",
    "\n",
    "import random\n",
    "\n",
    "def interc(ta: str, tb: str) -> str:\n",
    "    return \" \".join([x for x in flatten([ta.split()[i] if not i%2 else (ta.split()[i], tb.split()[random.randrange(0, len(tb.split()))]) for i in range(0, len(ta.split()))])])\n",
    "\n",
    "assert len(appearances(ta, tb)) == 13 and sum(appearances(ta, tb).values()) == len(ta.split(\" \")) + len(tb.split(\" \"))\n",
    "assert len(diff(ta, tb)) == 9\n",
    "#assert len(comb(ta, tb)) == 42\n",
    "assert len(interc(ta, tb).split(\" \")) == len(ta.split(\" \")) + len(ta.split(\" \"))//2"
   ]
  },
  {
   "cell_type": "markdown",
   "metadata": {},
   "source": [
    "6. (2p) Se da o lista cu mai multe liste imbricate cu numere intregi drept elemente. \n",
    "    1. Scrieti o functie care calculeaza lista liniarizata.\n",
    "    2. Impartiti lista liniarizata in n matrice cu 3 linii si 3 coloane (umpleti ultima matrice cu valori 1 pana la completare). De exemplu, prima matrice formata pentru `nested_integer_list` ar fi `[[5, 12, 7], [3, 19, 25], [8, 14, 21]]`, iar ultima `[[10, 13, 1], [1, 1, 1], [1, 1, 1]]`. Calculati care este matricea cu valoarea maxima a produsului sumelor pe coloane. Functia va primi drept parametru lista liniarizata si va oferi un tuplu format din matricea si valoarea maxima ceruta."
   ]
  },
  {
   "cell_type": "code",
   "execution_count": 235,
   "metadata": {},
   "outputs": [
    {
     "ename": "AssertionError",
     "evalue": "",
     "output_type": "error",
     "traceback": [
      "\u001b[0;31m---------------------------------------------------------------------------\u001b[0m",
      "\u001b[0;31mAssertionError\u001b[0m                            Traceback (most recent call last)",
      "Cell \u001b[0;32mIn[235], line 24\u001b[0m\n\u001b[1;32m     20\u001b[0m     \u001b[38;5;241m.\u001b[39m\u001b[38;5;241m.\u001b[39m\u001b[38;5;241m.\u001b[39m\n\u001b[1;32m     21\u001b[0m     \u001b[38;5;28;01mreturn\u001b[39;00m \u001b[38;5;241m.\u001b[39m\u001b[38;5;241m.\u001b[39m\u001b[38;5;241m.\u001b[39m, \u001b[38;5;241m.\u001b[39m\u001b[38;5;241m.\u001b[39m\u001b[38;5;241m.\u001b[39m\n\u001b[0;32m---> 24\u001b[0m \u001b[38;5;28;01massert\u001b[39;00m liniarize(nested_integer_list) \u001b[38;5;241m==\u001b[39m [\u001b[38;5;241m5\u001b[39m, \u001b[38;5;241m12\u001b[39m, \u001b[38;5;241m7\u001b[39m, \u001b[38;5;241m3\u001b[39m, \u001b[38;5;241m19\u001b[39m, \u001b[38;5;241m25\u001b[39m, \u001b[38;5;241m8\u001b[39m, \u001b[38;5;241m14\u001b[39m, \u001b[38;5;241m21\u001b[39m, \u001b[38;5;241m2\u001b[39m, \u001b[38;5;241m17\u001b[39m, \u001b[38;5;241m6\u001b[39m, \u001b[38;5;241m11\u001b[39m, \u001b[38;5;241m9\u001b[39m, \u001b[38;5;241m18\u001b[39m, \u001b[38;5;241m23\u001b[39m, \u001b[38;5;241m4\u001b[39m, \u001b[38;5;241m15\u001b[39m, \u001b[38;5;241m10\u001b[39m, \u001b[38;5;241m13\u001b[39m]\n\u001b[1;32m     26\u001b[0m \u001b[38;5;28;01massert\u001b[39;00m max_split(liniarize(nested_integer_list))[\u001b[38;5;241m1\u001b[39m] \u001b[38;5;241m==\u001b[39m \u001b[38;5;241m38160\u001b[39m\n",
      "\u001b[0;31mAssertionError\u001b[0m: "
     ]
    }
   ],
   "source": [
    "nested_integer_list = [\n",
    "    5, \n",
    "    [12, 7], \n",
    "    3, \n",
    "    [19, [25, 8]], \n",
    "    14, \n",
    "    21, \n",
    "    [2, [17, 6], 11], \n",
    "    9, \n",
    "    [18, 23], \n",
    "    [4, [15, [10, 13]]]\n",
    "]\n",
    "\n",
    "# Subpunct 1\n",
    "def liniarize(lista):\n",
    "    return ...\n",
    "\n",
    "# Subpunct 2\n",
    "def max_split(lista):\n",
    "    ...\n",
    "    return ..., ...\n",
    "\n",
    "\n",
    "assert liniarize(nested_integer_list) == [5, 12, 7, 3, 19, 25, 8, 14, 21, 2, 17, 6, 11, 9, 18, 23, 4, 15, 10, 13]\n",
    "\n",
    "assert max_split(liniarize(nested_integer_list))[1] == 38160\n"
   ]
  },
  {
   "cell_type": "code",
   "execution_count": null,
   "metadata": {},
   "outputs": [],
   "source": []
  }
 ],
 "metadata": {
  "kernelspec": {
   "display_name": ".venv",
   "language": "python",
   "name": "python3"
  },
  "language_info": {
   "codemirror_mode": {
    "name": "ipython",
    "version": 3
   },
   "file_extension": ".py",
   "mimetype": "text/x-python",
   "name": "python",
   "nbconvert_exporter": "python",
   "pygments_lexer": "ipython3",
   "version": "3.12.4"
  }
 },
 "nbformat": 4,
 "nbformat_minor": 2
}

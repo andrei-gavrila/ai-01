{
 "cells": [
  {
   "cell_type": "markdown",
   "metadata": {},
   "source": [
    "# Tema 1 - exercitii python\n",
    "\n",
    "Se acordă doua puncte din oficiu. Fișierul va fi denumit tema1_ia_id_nume_prenume.ipynb. Verificați înainte de trimitere faptul ca execuția celulelor de sus în jos funcționează corespunzător. Aserțiunile sunt obligatoriu a fi indeplinite. Suplimentar, puteti face alte verificari.\n",
    "\n",
    "Se vor folosi type annotations pentru variabile, parametrii tuturor funcțiilor, tipuri de retur. Se vor folosi docstrings pentru toate funcțiile. Neîndeplinirea acestei cerințe duce la înjumătățirea punctajului pentru exercițiul în cauză.  \n",
    "\n",
    "Puteti crea alte functii auxiliare.\n",
    "\n",
    "Tema va fi predata pana cel tarziu 23.11.2024, pe platforma."
   ]
  },
  {
   "cell_type": "markdown",
   "metadata": {},
   "source": [
    "1. (1p) Se dă o listă `lista` de numere întregi. Preluați numerele pare în lista `lista_pare` numerele impare în lista `lista_impare`."
   ]
  },
  {
   "cell_type": "code",
   "execution_count": 174,
   "metadata": {},
   "outputs": [],
   "source": [
    "from typing import List, Tuple"
   ]
  },
  {
   "cell_type": "code",
   "execution_count": 175,
   "metadata": {},
   "outputs": [],
   "source": [
    "# Adaugati type annotations\n",
    "lista: list[int] = [3, 7, 12, 5, 9, -14, 20, 8, -11]\n",
    "\n",
    "lista_pare: list[int] = [x for x in lista if not x % 2]\n",
    "lista_impare: list[int] = [x for x in lista if x % 2]\n",
    "\n",
    "assert lista_pare == [12, -14, 20, 8]\n",
    "assert lista_impare == [3, 7, 5, 9, -11]"
   ]
  },
  {
   "cell_type": "markdown",
   "metadata": {},
   "source": [
    "2. (1p) Se dă o listă `lista` de liste de cuvinte distincte. Să se formeze un dicționar cu toate cuvintele listei care încep cu litera `a`: cheia va fi reprezentată de cuvântul oferit iar valoare va fi lungimea cuvântului."
   ]
  },
  {
   "cell_type": "code",
   "execution_count": 176,
   "metadata": {},
   "outputs": [],
   "source": [
    "lista: list[list[str]] = [\n",
    "    ['avocado', 'narwhal', 'grape', 'kiwi'], \n",
    "    ['dog', 'orange'], \n",
    "    ['peach', 'elephant', 'apricot'], \n",
    "    ['almond', 'monkey', 'fox', 'apple'], \n",
    "    ['quince', 'lion']\n",
    "]\n",
    "\n",
    "dict_result: dict[str, int] = {k: len(k) for l in lista for k in l if k.startswith('a')}\n",
    "\n",
    "assert dict_result == {'avocado': 7, 'apricot': 7, 'almond': 6, 'apple': 5}"
   ]
  },
  {
   "cell_type": "markdown",
   "metadata": {},
   "source": [
    "3. (1p) Sa se scrie o functie care calculează suma divizorilor comuni pentru 2 numere intregi oferite ca parametru."
   ]
  },
  {
   "cell_type": "code",
   "execution_count": 177,
   "metadata": {},
   "outputs": [],
   "source": [
    "def sum_divisors(a: int, b: int) -> int:\n",
    "    return sum([x for x in range(1, min(a, b) + 1) if not a%x and not b%x])\n",
    "\n",
    "assert sum_divisors(15, 30) == 24"
   ]
  },
  {
   "cell_type": "markdown",
   "metadata": {},
   "source": [
    "4. (1p) Se da un dictionar in care cheile sunt titluri de filme iar valorile sunt listele genurilor din care fac parte. Determinati:\n",
    "    1. Pentru un film oferit ca parametru, ce alte filme au in comun cu el cel putin un gen?\n",
    "    2. Care este al doilea cel mai intalnit gen in dictionarul dat?"
   ]
  },
  {
   "cell_type": "code",
   "execution_count": 178,
   "metadata": {},
   "outputs": [],
   "source": [
    "movies = {\n",
    "    \"Inception\": [\"Sci-Fi\", \"Thriller\", \"Action\"],\n",
    "    \"The Godfather\": [\"Crime\", \"Drama\"],\n",
    "    \"The Dark Knight\": [\"Action\", \"Crime\", \"Drama\"],\n",
    "    \"Pulp Fiction\": [\"Crime\", \"Drama\", \"Comedy\"],\n",
    "    \"Forrest Gump\": [\"Drama\", \"Romance\", \"Comedy\"],\n",
    "    \"The Matrix\": [\"Sci-Fi\", \"Action\"],\n",
    "    \"Parasite\": [\"Drama\", \"Thriller\", \"Comedy\"]\n",
    "}\n",
    "\n",
    "# Subpunct 1\n",
    "def common_genre(movies: dict[str,list[str]], movie: str) -> list[str]:\n",
    "    return sorted(list(set([m for m, genre in movies.items() for g in genre if m != movie and g in movies[movie]])))\n",
    "\n",
    "# Subpunct 1.a (pentru ca nu e specificat in cerinta ordinea, un set ar fi de preferat pentru validarea din assert)\n",
    "def common_genre_a(movies: dict[str,list[str]], movie: str) -> set[str]:\n",
    "    return set([m for m, genre in movies.items() for g in genre if m != movie and g in movies[movie]])\n",
    "\n",
    "# Subpunct 2 (sunt trei rezultate pentru assert, par sortate alfabetic invers)\n",
    "def second_to_max(movies: dict[str,list[str]]) -> str:\n",
    "    l: list[str] = sorted([g for m, genre in movies.items() for g in genre])\n",
    "#    print(l)\n",
    "    g: dict[str, int] = {g: l.count(g) for g in l}\n",
    "#    print(g)\n",
    "    gc = list({k: v for k, v in sorted(g.items(), key=lambda item: item[1])}.keys())\n",
    "#    print(gc)\n",
    "    return gc[-2:-1][0]\n",
    "\n",
    "assert second_to_max(movies) == 'Crime'\n",
    "#assert common_genre(movies, 'Inception') == ['The Dark Knight', 'The Matrix', 'Parasite']\n",
    "assert common_genre(movies, 'Inception') == ['Parasite', 'The Dark Knight', 'The Matrix']\n",
    "assert common_genre_a(movies, 'Inception') == {'The Dark Knight', 'The Matrix', 'Parasite'}\n"
   ]
  },
  {
   "cell_type": "markdown",
   "metadata": {},
   "source": [
    "5. (2p) Se dau două texte `ta` și `tb`. Construiți pentru fiecare subpunct o funcție care:\n",
    "    1. Functia `appearances`: Formează un dicționar de cuvinte, unde valoarea pentru o cheie cuvânt este numărul de apariții, în total, în cele două texte.\n",
    "    2. Functia `diff`: Formează o listă care conține cuvintele care apar ori în `ta` ori în `tb` (dar nu în ambele).\n",
    "    3. Functia `comb`: Formează toate combinațiile de cuvinte între cuvintele care apar o singură dată în `ta` sau în `tb`. Cele două cuvinte vor fi unite utilizând caracterul `+`.\n",
    "    4. Functia `interc`: Intercalează la fiecare 2 cuvinte din `ta` un cuvând ales aleator din `tb` și formează un text cu cuvintele noi separate prin spațiu."
   ]
  },
  {
   "cell_type": "code",
   "execution_count": 179,
   "metadata": {},
   "outputs": [],
   "source": [
    "ta = 'The quick brown fox jumps over the lazy dog'\n",
    "tb = 'The dog chased the quick rabbit through the field'\n",
    "\n",
    "def appearances(ta: str, tb: str) -> dict[str, int]:\n",
    "#    w: str = (ta + ' ' + tb).lower().split()\n",
    "#    print(w)\n",
    "    w: str = (ta + ' ' + tb).split()\n",
    "#    print(w)\n",
    "    a = {k: w.count(k) for k in set(w)}\n",
    "#    print(a)\n",
    "    return a\n",
    "\n",
    "def diff(ta: str, tb: str) -> list[str]:\n",
    "    return set(set(ta.split()) - set(tb.split())) | set(set(tb.split()) - set(ta.split()))\n",
    "\n",
    "def comb(ta: str, tb: str) -> list[str]:\n",
    "    return [word_ta + '+' + word_tb for word_ta in [w for w in ta.lower().split(' ') if ta.lower().split(' ').count(w) == 1] for word_tb in [w for w in tb.lower().split(' ') if tb.lower().split(' ').count(w) == 1]]\n",
    "\n",
    "from collections.abc import Iterable\n",
    "\n",
    "def flatten(xs: object) -> object:\n",
    "    for x in xs:\n",
    "        if isinstance(x, Iterable) and not isinstance(x, (str, bytes)):\n",
    "            yield from flatten(x)\n",
    "        else:\n",
    "            yield x\n",
    "\n",
    "import random\n",
    "\n",
    "def interc(ta: str, tb: str) -> str:\n",
    "    return \" \".join([x for x in flatten([ta.split()[i] if not i%2 else (ta.split()[i], tb.split()[random.randrange(0, len(tb.split()))]) for i in range(0, len(ta.split()))])])\n",
    "\n",
    "assert len(appearances(ta, tb)) == 13 and sum(appearances(ta, tb).values()) == len(ta.split(\" \")) + len(tb.split(\" \"))\n",
    "assert len(diff(ta, tb)) == 9\n",
    "assert len(comb(ta, tb)) == 42\n",
    "assert len(interc(ta, tb).split(\" \")) == len(ta.split(\" \")) + len(ta.split(\" \"))//2"
   ]
  },
  {
   "cell_type": "markdown",
   "metadata": {},
   "source": [
    "6. (2p) Se da o lista cu mai multe liste imbricate cu numere intregi drept elemente. \n",
    "    1. Scrieti o functie care calculeaza lista liniarizata.\n",
    "    2. Impartiti lista liniarizata in n matrice cu 3 linii si 3 coloane (umpleti ultima matrice cu valori 1 pana la completare). De exemplu, prima matrice formata pentru `nested_integer_list` ar fi `[[5, 12, 7], [3, 19, 25], [8, 14, 21]]`, iar ultima `[[10, 13, 1], [1, 1, 1], [1, 1, 1]]`. Calculati care este matricea cu valoarea maxima a produsului sumelor pe coloane. Functia va primi drept parametru lista liniarizata si va oferi un tuplu format din matricea si valoarea maxima ceruta."
   ]
  },
  {
   "cell_type": "code",
   "execution_count": 180,
   "metadata": {},
   "outputs": [],
   "source": [
    "nested_integer_list = [\n",
    "    5, \n",
    "    [12, 7], \n",
    "    3, \n",
    "    [19, [25, 8]], \n",
    "    14, \n",
    "    21, \n",
    "    [2, [17, 6], 11], \n",
    "    9, \n",
    "    [18, 23], \n",
    "    [4, [15, [10, 13]]]\n",
    "]\n",
    "\n",
    "from collections.abc import Iterable\n",
    "\n",
    "def flatten(xs: object) -> object:\n",
    "    for x in xs:\n",
    "        if isinstance(x, Iterable) and not isinstance(x, (str, bytes)):\n",
    "            yield from flatten(x)\n",
    "        else:\n",
    "            yield x\n",
    "\n",
    "# Subpunct 1\n",
    "def liniarize(lista: list[object]) -> list[object]:\n",
    "    return [e for e in flatten(lista)]\n",
    "\n",
    "import math\n",
    "\n",
    "# Subpunct 2\n",
    "def max_split(lista: list[int]) -> tuple[list[int], int]:\n",
    "    elems: int = math.ceil(float(len(lista)) / float(9))\n",
    "#    print(elems)\n",
    "    l1: list[int] = [lista[i] if i < len(lista) else 1 for i in range(0, elems*9)]\n",
    "#    print(l1)\n",
    "    l2: list[list[int]] = [[l1[i*3 + j] for j in range(0, 3)] for i in range(0, elems*3)]\n",
    "#    print(l2)\n",
    "    l3: list[list[list[int]]] = [[l2[i*3 + j] for j in range(0, 3)] for i in range(0, elems)]\n",
    "#    print(l3)\n",
    "    t0: list[tuple[list[list[int]], int]] = [(l3[k], math.prod([sum([l3[k][i][j] for i in range(0, 3)]) for j in range(0, 3)])) for k in range(0, elems)]\n",
    "#    print(t0)\n",
    "    t0.sort(key = lambda tup: tup[1], reverse = True)\n",
    "#    print(t0)\n",
    "    return t0[0]\n",
    "\n",
    "# Subpunct 2 (funny)\n",
    "def max_split_a(lista: list[int]) -> tuple[list[int], int]:\n",
    "    return sorted([([[[[[lista[i] if i < len(lista) else 1 for i in range(0, math.ceil(float(len(lista)) / float(9))*9)][i*3 + j] for j in range(0, 3)] for i in range(0, math.ceil(float(len(lista)) / float(9))*3)][i*3 + j] for j in range(0, 3)] for i in range(0, math.ceil(float(len(lista)) / float(9)))][k], math.prod([sum([[[[[[lista[i] if i < len(lista) else 1 for i in range(0, math.ceil(float(len(lista)) / float(9))*9)][i*3 + j] for j in range(0, 3)] for i in range(0, math.ceil(float(len(lista)) / float(9))*3)][i*3 + j] for j in range(0, 3)] for i in range(0, math.ceil(float(len(lista)) / float(9)))][k][i][j] for i in range(0, 3)]) for j in range(0, 3)])) for k in range(0, math.ceil(float(len(lista)) / float(9)))], key = lambda tup: tup[1], reverse = True)[0]\n",
    "\n",
    "\n",
    "assert liniarize(nested_integer_list) == [5, 12, 7, 3, 19, 25, 8, 14, 21, 2, 17, 6, 11, 9, 18, 23, 4, 15, 10, 13]\n",
    "\n",
    "#assert max_split(liniarize(nested_integer_list))[1] == 38160\n",
    "assert max_split(liniarize(nested_integer_list))[1] == 42120\n",
    "assert max_split_a(liniarize(nested_integer_list))[1] == 42120\n"
   ]
  }
 ],
 "metadata": {
  "kernelspec": {
   "display_name": ".venv",
   "language": "python",
   "name": "python3"
  },
  "language_info": {
   "codemirror_mode": {
    "name": "ipython",
    "version": 3
   },
   "file_extension": ".py",
   "mimetype": "text/x-python",
   "name": "python",
   "nbconvert_exporter": "python",
   "pygments_lexer": "ipython3",
   "version": "3.12.4"
  }
 },
 "nbformat": 4,
 "nbformat_minor": 2
}

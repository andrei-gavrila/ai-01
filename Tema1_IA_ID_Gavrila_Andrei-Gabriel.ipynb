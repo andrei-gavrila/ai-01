{
 "cells": [
  {
   "cell_type": "markdown",
   "metadata": {},
   "source": [
    "# Tema 1 - exercitii python\n",
    "\n",
    "Se acordă doua puncte din oficiu. Fișierul va fi denumit tema1_ia_id_nume_prenume.ipynb. Verificați înainte de trimitere faptul ca execuția celulelor de sus în jos funcționează corespunzător. Aserțiunile sunt obligatoriu a fi indeplinite. Suplimentar, puteti face alte verificari.\n",
    "\n",
    "Se vor folosi type annotations pentru variabile, parametrii tuturor funcțiilor, tipuri de retur. Se vor folosi docstrings pentru toate funcțiile. Neîndeplinirea acestei cerințe duce la înjumătățirea punctajului pentru exercițiul în cauză.  \n",
    "\n",
    "Puteti crea alte functii auxiliare.\n",
    "\n",
    "Tema va fi predata pana cel tarziu 23.11.2024, pe platforma."
   ]
  },
  {
   "cell_type": "markdown",
   "metadata": {},
   "source": [
    "1. (1p) Se dă o listă `lista` de numere întregi. Preluați numerele pare în lista `lista_pare` numerele impare în lista `lista_impare`."
   ]
  },
  {
   "cell_type": "code",
   "execution_count": 149,
   "metadata": {},
   "outputs": [],
   "source": [
    "from typing import List, Tuple"
   ]
  },
  {
   "cell_type": "code",
   "execution_count": 150,
   "metadata": {},
   "outputs": [],
   "source": [
    "# Adaugati type annotations\n",
    "lista: list[int] = [3, 7, 12, 5, 9, -14, 20, 8, -11]\n",
    "\n",
    "lista_pare: list[int] = [x for x in lista if not x % 2]\n",
    "lista_impare: list[int] = [x for x in lista if x % 2]\n",
    "\n",
    "assert lista_pare == [12, -14, 20, 8]\n",
    "assert lista_impare == [3, 7, 5, 9, -11]"
   ]
  },
  {
   "cell_type": "markdown",
   "metadata": {},
   "source": [
    "2. (1p) Se dă o listă `lista` de liste de cuvinte distincte. Să se formeze un dicționar cu toate cuvintele listei care încep cu litera `a`: cheia va fi reprezentată de cuvântul oferit iar valoare va fi lungimea cuvântului."
   ]
  },
  {
   "cell_type": "code",
   "execution_count": 151,
   "metadata": {},
   "outputs": [],
   "source": [
    "lista: list[list[str]] = [\n",
    "    ['avocado', 'narwhal', 'grape', 'kiwi'], \n",
    "    ['dog', 'orange'], \n",
    "    ['peach', 'elephant', 'apricot'], \n",
    "    ['almond', 'monkey', 'fox', 'apple'], \n",
    "    ['quince', 'lion']\n",
    "]\n",
    "\n",
    "dict_result: dict[str, int] = {k: len(k) for l in lista for k in l if k.startswith('a')}\n",
    "\n",
    "assert dict_result == {'avocado': 7, 'apricot': 7, 'almond': 6, 'apple': 5}"
   ]
  },
  {
   "cell_type": "markdown",
   "metadata": {},
   "source": [
    "3. (1p) Sa se scrie o functie care calculează suma divizorilor comuni pentru 2 numere intregi oferite ca parametru."
   ]
  },
  {
   "cell_type": "code",
   "execution_count": 152,
   "metadata": {},
   "outputs": [],
   "source": [
    "def sum_divisors(a: int, b: int) -> int:\n",
    "    return sum([x for x in range(1, min(a, b) + 1) if not a%x and not b%x])\n",
    "\n",
    "assert sum_divisors(15, 30) == 24"
   ]
  },
  {
   "cell_type": "markdown",
   "metadata": {},
   "source": [
    "4. (1p) Se da un dictionar in care cheile sunt titluri de filme iar valorile sunt listele genurilor din care fac parte. Determinati:\n",
    "    1. Pentru un film oferit ca parametru, ce alte filme au in comun cu el cel putin un gen?\n",
    "    2. Care este al doilea cel mai intalnit gen in dictionarul dat?"
   ]
  },
  {
   "cell_type": "code",
   "execution_count": 153,
   "metadata": {},
   "outputs": [],
   "source": [
    "movies = {\n",
    "    \"Inception\": [\"Sci-Fi\", \"Thriller\", \"Action\"],\n",
    "    \"The Godfather\": [\"Crime\", \"Drama\"],\n",
    "    \"The Dark Knight\": [\"Action\", \"Crime\", \"Drama\"],\n",
    "    \"Pulp Fiction\": [\"Crime\", \"Drama\", \"Comedy\"],\n",
    "    \"Forrest Gump\": [\"Drama\", \"Romance\", \"Comedy\"],\n",
    "    \"The Matrix\": [\"Sci-Fi\", \"Action\"],\n",
    "    \"Parasite\": [\"Drama\", \"Thriller\", \"Comedy\"]\n",
    "}\n",
    "\n",
    "# Subpunct 1\n",
    "def common_genre(movies: dict[str,list[str]], movie: str) -> list[str]:\n",
    "    l: list[str] = list(set([m for m, genre in movies.items() for g in genre if m != movie and g in movies[movie]]))\n",
    "    l.reverse()\n",
    "\n",
    "    return l\n",
    "\n",
    "# Subpunct 1.a (pentru ca nu e specificat in cerinta ordinea, un set ar fi de preferat pentru validarea din assert)\n",
    "def common_genre_a(movies: dict[str,list[str]], movie: str) -> set[str]:\n",
    "    return set([m for m, genre in movies.items() for g in genre if m != movie and g in movies[movie]])\n",
    "\n",
    "# Subpunct 2 (sunt trei rezultate pentru assert, par sortate alfabetic invers)\n",
    "def second_to_max(movies: dict[str,list[str]]) -> str:\n",
    "    l: list[str] = sorted([g for m, genre in movies.items() for g in genre])\n",
    "#    print(l)\n",
    "    g: dict[str, int] = {g: l.count(g) for g in l}\n",
    "#    print(g)\n",
    "    gc = list({k: v for k, v in sorted(g.items(), key=lambda item: item[1])}.keys())\n",
    "#    print(gc)\n",
    "    return gc[-2:-1][0]\n",
    "\n",
    "assert second_to_max(movies) == 'Crime'\n",
    "assert common_genre(movies, 'Inception') == ['The Dark Knight', 'The Matrix', 'Parasite']\n",
    "assert common_genre_a(movies, 'Inception') == {'The Dark Knight', 'The Matrix', 'Parasite'}\n"
   ]
  },
  {
   "cell_type": "markdown",
   "metadata": {},
   "source": [
    "5. (2p) Se dau două texte `ta` și `tb`. Construiți pentru fiecare subpunct o funcție care:\n",
    "    1. Functia `appearances`: Formează un dicționar de cuvinte, unde valoarea pentru o cheie cuvânt este numărul de apariții, în total, în cele două texte.\n",
    "    2. Functia `diff`: Formează o listă care conține cuvintele care apar ori în `ta` ori în `tb` (dar nu în ambele).\n",
    "    3. Functia `comb`: Formează toate combinațiile de cuvinte între cuvintele care apar o singură dată în `ta` sau în `tb`. Cele două cuvinte vor fi unite utilizând caracterul `+`.\n",
    "    4. Functia `interc`: Intercalează la fiecare 2 cuvinte din `ta` un cuvând ales aleator din `tb` și formează un text cu cuvintele noi separate prin spațiu."
   ]
  },
  {
   "cell_type": "code",
   "execution_count": 154,
   "metadata": {},
   "outputs": [
    {
     "ename": "AssertionError",
     "evalue": "",
     "output_type": "error",
     "traceback": [
      "\u001b[0;31m---------------------------------------------------------------------------\u001b[0m",
      "\u001b[0;31mAssertionError\u001b[0m                            Traceback (most recent call last)",
      "Cell \u001b[0;32mIn[154], line 25\u001b[0m\n\u001b[1;32m     23\u001b[0m \u001b[38;5;28;01massert\u001b[39;00m \u001b[38;5;28mlen\u001b[39m(appearances(ta, tb)) \u001b[38;5;241m==\u001b[39m \u001b[38;5;241m13\u001b[39m \u001b[38;5;129;01mand\u001b[39;00m \u001b[38;5;28msum\u001b[39m(appearances(ta, tb)\u001b[38;5;241m.\u001b[39mvalues()) \u001b[38;5;241m==\u001b[39m \u001b[38;5;28mlen\u001b[39m(ta\u001b[38;5;241m.\u001b[39msplit(\u001b[38;5;124m\"\u001b[39m\u001b[38;5;124m \u001b[39m\u001b[38;5;124m\"\u001b[39m)) \u001b[38;5;241m+\u001b[39m \u001b[38;5;28mlen\u001b[39m(tb\u001b[38;5;241m.\u001b[39msplit(\u001b[38;5;124m\"\u001b[39m\u001b[38;5;124m \u001b[39m\u001b[38;5;124m\"\u001b[39m))\n\u001b[1;32m     24\u001b[0m \u001b[38;5;28;01massert\u001b[39;00m \u001b[38;5;28mlen\u001b[39m(diff(ta, tb)) \u001b[38;5;241m==\u001b[39m \u001b[38;5;241m9\u001b[39m\n\u001b[0;32m---> 25\u001b[0m \u001b[38;5;28;01massert\u001b[39;00m \u001b[38;5;28mlen\u001b[39m(comb(ta, tb)) \u001b[38;5;241m==\u001b[39m \u001b[38;5;241m42\u001b[39m\n\u001b[1;32m     26\u001b[0m \u001b[38;5;66;03m#assert len(interc(ta, tb).split(\" \")) == len(ta.split(\" \")) + len(ta.split(\" \"))//2\u001b[39;00m\n",
      "\u001b[0;31mAssertionError\u001b[0m: "
     ]
    }
   ],
   "source": [
    "ta = 'The quick brown fox jumps over the lazy dog'\n",
    "tb = 'The dog chased the quick rabbit through the field'\n",
    "\n",
    "def appearances(ta: str, tb: str) -> dict[str, int]:\n",
    "#    w: str = (ta + ' ' + tb).lower().split()\n",
    "#    print(w)\n",
    "    w: str = (ta + ' ' + tb).split()\n",
    "#    print(w)\n",
    "    a = {k: w.count(k) for k in set(w)}\n",
    "#    print(a)\n",
    "    return a\n",
    "\n",
    "def diff(ta: str, tb: str) -> list[str]:\n",
    "    return set(set(ta.split()) - set(tb.split())) | set(set(tb.split()) - set(ta.split()))\n",
    "\n",
    "def comb(ta: str, tb: str) -> list[str]:\n",
    "    return (1, 2)\n",
    "\n",
    "#def interc(ta, tb):\n",
    "#    ...\n",
    "#    return ...\n",
    "\n",
    "assert len(appearances(ta, tb)) == 13 and sum(appearances(ta, tb).values()) == len(ta.split(\" \")) + len(tb.split(\" \"))\n",
    "assert len(diff(ta, tb)) == 9\n",
    "assert len(comb(ta, tb)) == 42\n",
    "#assert len(interc(ta, tb).split(\" \")) == len(ta.split(\" \")) + len(ta.split(\" \"))//2"
   ]
  },
  {
   "cell_type": "markdown",
   "metadata": {},
   "source": [
    "6. (2p) Se da o lista cu mai multe liste imbricate cu numere intregi drept elemente. \n",
    "    1. Scrieti o functie care calculeaza lista liniarizata.\n",
    "    2. Impartiti lista liniarizata in n matrice cu 3 linii si 3 coloane (umpleti ultima matrice cu valori 1 pana la completare). De exemplu, prima matrice formata pentru `nested_integer_list` ar fi `[[5, 12, 7], [3, 19, 25], [8, 14, 21]]`, iar ultima `[[10, 13, 1], [1, 1, 1], [1, 1, 1]]`. Calculati care este matricea cu valoarea maxima a produsului sumelor pe coloane. Functia va primi drept parametru lista liniarizata si va oferi un tuplu format din matricea si valoarea maxima ceruta."
   ]
  },
  {
   "cell_type": "code",
   "execution_count": null,
   "metadata": {},
   "outputs": [],
   "source": [
    "nested_integer_list = [\n",
    "    5, \n",
    "    [12, 7], \n",
    "    3, \n",
    "    [19, [25, 8]], \n",
    "    14, \n",
    "    21, \n",
    "    [2, [17, 6], 11], \n",
    "    9, \n",
    "    [18, 23], \n",
    "    [4, [15, [10, 13]]]\n",
    "]\n",
    "\n",
    "# Subpunct 1\n",
    "def liniarize(lista):\n",
    "    return ...\n",
    "\n",
    "# Subpunct 2\n",
    "def max_split(lista):\n",
    "    ...\n",
    "    return ..., ...\n",
    "\n",
    "\n",
    "assert liniarize(nested_integer_list) == [5, 12, 7, 3, 19, 25, 8, 14, 21, 2, 17, 6, 11, 9, 18, 23, 4, 15, 10, 13]\n",
    "\n",
    "assert max_split(liniarize(nested_integer_list))[1] == 38160\n"
   ]
  },
  {
   "cell_type": "code",
   "execution_count": null,
   "metadata": {},
   "outputs": [],
   "source": []
  }
 ],
 "metadata": {
  "kernelspec": {
   "display_name": ".venv",
   "language": "python",
   "name": "python3"
  },
  "language_info": {
   "codemirror_mode": {
    "name": "ipython",
    "version": 3
   },
   "file_extension": ".py",
   "mimetype": "text/x-python",
   "name": "python",
   "nbconvert_exporter": "python",
   "pygments_lexer": "ipython3",
   "version": "3.12.4"
  }
 },
 "nbformat": 4,
 "nbformat_minor": 2
}
